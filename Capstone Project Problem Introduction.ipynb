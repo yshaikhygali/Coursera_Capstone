{
 "cells": [
  {
   "cell_type": "markdown",
   "metadata": {},
   "source": [
    "### Problem description\n",
    "\n",
    "When you go to a certain it is sometimes hard find a place to visit apart from famous areas. It is obvious that every city has some places that are not widely known but considered to be one of the most visited places. Apply the data from www.foursquare.com we can get the data which shows the degree of popularity of a particular place. As a result, we can identify the places where it would beneficial to open some shop or restaurant and where not to open.\n",
    "\n",
    "The goal of this project is to analyze the popularity of places. \n",
    "\n",
    "The target audience of this project is citizens, visitors, businessmen in Toronto, Canada.\n",
    "\n",
    "### Data collection\n",
    "\n",
    "This project will require the exploration and analysis of following data:\n",
    "\n",
    "1) Toronto Neighborhood Data - 'https://en.wikipedia.org/wiki/List_of_postal_codes_of_Canada'which which possesses a list of neighbourhoods in the Toronto area and use of a geo locator to determine the latitude and longitude of each area.\n",
    "\n",
    "2) Foursquare Location Data, TOP tips, Favorites, User Experience, etc. will be used to cluster, segment, target, and position to craft recommendations for the new Muslim visitors.\n",
    "\n",
    "Foursquare is a location data provider with information about all manner of venues and events within an area of interest. Such information includes venue names, locations, tips relating to these venues, menus and even photos. As such, the Foursquare location platform will be used as the sole data source since all the stated required information can be obtained through the API.\n",
    "\n",
    "Firstly, Toronto borough neighborhood addresses are converted into their equivalent latitude and longitude using the values retrieved from Toronto geodata sheet using Pandas library in Python. After that, the Foursquare API is used to explore neighborhoods in Toronto borough. Using the explore function, the most common venued  within a radius of 500 meters is extracted for each Toronto  neighborhood and the number of returned venues by Foursquare API is limited to 100.\n",
    "\n",
    "Now, the venue categories feature is used to group the neighborhoods into clusters. The k-means clustering algorithm is used to perform this task. Finally, the Folium library is employed to visualize the neighborhoods in Toronto  borough and their emerging clusters.\n"
   ]
  },
  {
   "cell_type": "code",
   "execution_count": null,
   "metadata": {},
   "outputs": [],
   "source": []
  }
 ],
 "metadata": {
  "kernelspec": {
   "display_name": "Python 3",
   "language": "python",
   "name": "python3"
  },
  "language_info": {
   "codemirror_mode": {
    "name": "ipython",
    "version": 3
   },
   "file_extension": ".py",
   "mimetype": "text/x-python",
   "name": "python",
   "nbconvert_exporter": "python",
   "pygments_lexer": "ipython3",
   "version": "3.6.5"
  }
 },
 "nbformat": 4,
 "nbformat_minor": 2
}
