{
 "cells": [
  {
   "cell_type": "markdown",
   "metadata": {},
   "source": [
    "### Problem description\n",
    "\n",
    "In spite of the fact that Islam has become a widely discussed topic, the number of Muslim population in the Canada is  on the rise. Moreover, there are a lot of people coming from Islamic countries. Since for Muslim people praying place and halal food are vital moments in their daily lives, it is thought by using the locations of mosques and halal food place in the neibourhood we could make their lives easier. \n",
    "\n",
    "The goal of this project is to determine near by venues of their choice for praying and eating. To work on this problem we use data science and machine learning techniques thus making it very easy to find preferred mosque and halal food restaurant. \n",
    "\n",
    "The target audience of this project is Muslim people in Toronto, Canada.\n",
    "\n",
    "### Data collection\n",
    "\n",
    "This project will require the exploration and analysis of following data:\n",
    "\n",
    "1) Ottawa Neighborhood Data - 'https://en.wikipedia.org/wiki/List_of_postal_codes_of_Canada'\n",
    "\n",
    "2) Foursquare Location Data (Venues [Mosques, Halal Restaurants], TOP tips, Favorites, User Experience, etc) will be used to cluster, segment, target, and position to craft recommendations for the new visitors.\n",
    "\n",
    "Firstly, Ottawa borough neighborhood addresses are converted into their equivalent latitude and longitude using the values retrieved from Toronto geodata sheet using Pandas library in Python. After that, the Foursquare API is used to explore neighborhoods in Toronto borough. Using the explore function, the most common venued (mosques, halal restaurants) within a radius of 500 meters is extracted for each Toronto  neighborhood and the number of returned venues by Foursquare API is limited to 100.\n",
    "\n",
    "Now, the venue categories feature is used to group the neighborhoods into clusters. The k-means clustering algorithm is used to perform this task. Finally, the Folium library is employed to visualize the neighborhoods in Toronto  borough and their emerging clusters.\n"
   ]
  },
  {
   "cell_type": "code",
   "execution_count": null,
   "metadata": {},
   "outputs": [],
   "source": []
  }
 ],
 "metadata": {
  "kernelspec": {
   "display_name": "Python 3",
   "language": "python",
   "name": "python3"
  },
  "language_info": {
   "codemirror_mode": {
    "name": "ipython",
    "version": 3
   },
   "file_extension": ".py",
   "mimetype": "text/x-python",
   "name": "python",
   "nbconvert_exporter": "python",
   "pygments_lexer": "ipython3",
   "version": "3.6.5"
  }
 },
 "nbformat": 4,
 "nbformat_minor": 2
}
